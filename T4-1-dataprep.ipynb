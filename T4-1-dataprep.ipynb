{
 "cells": [
  {
   "cell_type": "code",
   "execution_count": 1,
   "metadata": {},
   "outputs": [],
   "source": [
    "############ importar bibliotecas \n",
    "import pandas as pd"
   ]
  },
  {
   "cell_type": "code",
   "execution_count": 2,
   "metadata": {
    "scrolled": true
   },
   "outputs": [],
   "source": [
    "###################################\n",
    "# ler dataset\n",
    "df1 = pd.read_csv(r'C:\\Users\\mvaug\\Google Drive\\MACK\\BIG DATA ANALYTICS_ APLICAÇÃO DE CONHECIMENTO [TURMA 01N1] - 2021_1\\datasets\\consumidorgovbr_amplo2021-01.csv',sep=';')"
   ]
  },
  {
   "cell_type": "code",
   "execution_count": 3,
   "metadata": {},
   "outputs": [
    {
     "data": {
      "text/plain": [
       "(120668, 30)"
      ]
     },
     "execution_count": 3,
     "metadata": {},
     "output_type": "execute_result"
    }
   ],
   "source": [
    "# ver dimensões do dataset\n",
    "df1.shape"
   ]
  },
  {
   "cell_type": "code",
   "execution_count": 4,
   "metadata": {
    "scrolled": true
   },
   "outputs": [],
   "source": [
    "#mostrar inicio do dataset\n",
    "#df1.head().T"
   ]
  },
  {
   "cell_type": "code",
   "execution_count": 5,
   "metadata": {
    "scrolled": true
   },
   "outputs": [
    {
     "data": {
      "text/plain": [
       "Gestor                     object\n",
       "Canal de Origem            object\n",
       "Região                     object\n",
       "UF                         object\n",
       "Cidade                     object\n",
       "Sexo                       object\n",
       "Faixa Etária               object\n",
       "Ano Abertura                int64\n",
       "Mês Abertura                int64\n",
       "Data Abertura              object\n",
       "Data Resposta              object\n",
       "Data Análise               object\n",
       "Data Recusa                object\n",
       "Data Finalização           object\n",
       "Prazo Resposta             object\n",
       "Prazo Analise Gestor      float64\n",
       "Tempo Resposta            float64\n",
       "Nome Fantasia              object\n",
       "Segmento de Mercado        object\n",
       "Área                       object\n",
       "Assunto                    object\n",
       "Grupo Problema             object\n",
       "Problema                   object\n",
       "Como Comprou Contratou     object\n",
       "Procurou Empresa           object\n",
       "Respondida                 object\n",
       "Situação                   object\n",
       "Avaliação Reclamação       object\n",
       "Nota do Consumidor        float64\n",
       "Análise da Recusa          object\n",
       "dtype: object"
      ]
     },
     "execution_count": 5,
     "metadata": {},
     "output_type": "execute_result"
    }
   ],
   "source": [
    "# ver tipo de variaveis o dataset tem\n",
    "df1.dtypes"
   ]
  },
  {
   "cell_type": "code",
   "execution_count": 6,
   "metadata": {},
   "outputs": [
    {
     "data": {
      "text/plain": [
       "Index(['Gestor', 'Canal de Origem', 'Região', 'UF', 'Cidade', 'Sexo',\n",
       "       'Faixa Etária', 'Ano Abertura', 'Mês Abertura', 'Data Abertura',\n",
       "       'Data Resposta', 'Data Análise', 'Data Recusa', 'Data Finalização',\n",
       "       'Prazo Resposta', 'Prazo Analise Gestor', 'Tempo Resposta',\n",
       "       'Nome Fantasia', 'Segmento de Mercado', 'Área', 'Assunto',\n",
       "       'Grupo Problema', 'Problema', 'Como Comprou Contratou',\n",
       "       'Procurou Empresa', 'Respondida', 'Situação', 'Avaliação Reclamação',\n",
       "       'Nota do Consumidor', 'Análise da Recusa'],\n",
       "      dtype='object')"
      ]
     },
     "execution_count": 6,
     "metadata": {},
     "output_type": "execute_result"
    }
   ],
   "source": [
    "# pegar o nome das colunas\n",
    "df1.columns"
   ]
  },
  {
   "cell_type": "code",
   "execution_count": 7,
   "metadata": {},
   "outputs": [],
   "source": [
    "#criar amostra excluindo colunas de data\n",
    "df2 = df1[[        \n",
    "           'Gestor', 'Canal de Origem', 'Região', 'UF', 'Cidade', 'Sexo', 'Faixa Etária',\n",
    "           #'Ano Abertura', 'Mês Abertura', 'Data Abertura', 'Data Resposta',\n",
    "           #'Data Análise', 'Data Recusa', 'Data Finalização','Prazo Resposta',\n",
    "           'Prazo Analise Gestor', 'Tempo Resposta','Nome Fantasia', 'Segmento de Mercado', \n",
    "           'Área', 'Assunto', 'Grupo Problema', 'Problema', 'Como Comprou Contratou',\n",
    "           'Procurou Empresa', 'Respondida', 'Situação', 'Avaliação Reclamação',\n",
    "           'Nota do Consumidor', 'Análise da Recusa'   \n",
    "        ]]"
   ]
  },
  {
   "cell_type": "code",
   "execution_count": 8,
   "metadata": {},
   "outputs": [
    {
     "data": {
      "text/plain": [
       "(120668, 22)"
      ]
     },
     "execution_count": 8,
     "metadata": {},
     "output_type": "execute_result"
    }
   ],
   "source": [
    "#\n",
    "df2.shape"
   ]
  },
  {
   "cell_type": "code",
   "execution_count": 9,
   "metadata": {},
   "outputs": [
    {
     "data": {
      "text/plain": [
       "Gestor                     object\n",
       "Canal de Origem            object\n",
       "Região                     object\n",
       "UF                         object\n",
       "Cidade                     object\n",
       "Sexo                       object\n",
       "Faixa Etária               object\n",
       "Prazo Analise Gestor      float64\n",
       "Tempo Resposta            float64\n",
       "Nome Fantasia              object\n",
       "Segmento de Mercado        object\n",
       "Área                       object\n",
       "Assunto                    object\n",
       "Grupo Problema             object\n",
       "Problema                   object\n",
       "Como Comprou Contratou     object\n",
       "Procurou Empresa           object\n",
       "Respondida                 object\n",
       "Situação                   object\n",
       "Avaliação Reclamação       object\n",
       "Nota do Consumidor        float64\n",
       "Análise da Recusa          object\n",
       "dtype: object"
      ]
     },
     "execution_count": 9,
     "metadata": {},
     "output_type": "execute_result"
    }
   ],
   "source": [
    "#\n",
    "df2.dtypes"
   ]
  },
  {
   "cell_type": "code",
   "execution_count": 10,
   "metadata": {},
   "outputs": [],
   "source": [
    "#mostrar inicio do dataset\n",
    "#df2.head().T"
   ]
  },
  {
   "cell_type": "code",
   "execution_count": 11,
   "metadata": {},
   "outputs": [
    {
     "data": {
      "text/plain": [
       "NaN    62360\n",
       "1.0    23493\n",
       "5.0    19871\n",
       "4.0     6218\n",
       "3.0     5747\n",
       "2.0     2979\n",
       "Name: Nota do Consumidor, dtype: int64"
      ]
     },
     "execution_count": 11,
     "metadata": {},
     "output_type": "execute_result"
    }
   ],
   "source": [
    "# count na coluna 'Nota do Consumidor', exibindo missing também\n",
    "df2['Nota do Consumidor'].value_counts(dropna=False)"
   ]
  },
  {
   "cell_type": "code",
   "execution_count": 12,
   "metadata": {},
   "outputs": [],
   "source": [
    "# Cria amostra apenas com nota do consumidor preenchido\n",
    "df3 = df2.loc[df2['Nota do Consumidor'].notnull()]"
   ]
  },
  {
   "cell_type": "code",
   "execution_count": 13,
   "metadata": {},
   "outputs": [
    {
     "data": {
      "text/plain": [
       "(58308, 22)"
      ]
     },
     "execution_count": 13,
     "metadata": {},
     "output_type": "execute_result"
    }
   ],
   "source": [
    "#\n",
    "df3.shape"
   ]
  },
  {
   "cell_type": "code",
   "execution_count": 14,
   "metadata": {},
   "outputs": [
    {
     "data": {
      "text/plain": [
       "Gestor                     object\n",
       "Canal de Origem            object\n",
       "Região                     object\n",
       "UF                         object\n",
       "Cidade                     object\n",
       "Sexo                       object\n",
       "Faixa Etária               object\n",
       "Prazo Analise Gestor      float64\n",
       "Tempo Resposta            float64\n",
       "Nome Fantasia              object\n",
       "Segmento de Mercado        object\n",
       "Área                       object\n",
       "Assunto                    object\n",
       "Grupo Problema             object\n",
       "Problema                   object\n",
       "Como Comprou Contratou     object\n",
       "Procurou Empresa           object\n",
       "Respondida                 object\n",
       "Situação                   object\n",
       "Avaliação Reclamação       object\n",
       "Nota do Consumidor        float64\n",
       "Análise da Recusa          object\n",
       "dtype: object"
      ]
     },
     "execution_count": 14,
     "metadata": {},
     "output_type": "execute_result"
    }
   ],
   "source": [
    "#\n",
    "df3.dtypes"
   ]
  },
  {
   "cell_type": "code",
   "execution_count": 15,
   "metadata": {
    "scrolled": false
   },
   "outputs": [
    {
     "data": {
      "text/plain": [
       "['Sexo', 'Prazo Analise Gestor', 'Tempo Resposta', 'Análise da Recusa']"
      ]
     },
     "execution_count": 15,
     "metadata": {},
     "output_type": "execute_result"
    }
   ],
   "source": [
    "# Mostrar as colunas que tem nulo\n",
    "df3.columns[df3.isna().any()].tolist()"
   ]
  },
  {
   "cell_type": "code",
   "execution_count": 16,
   "metadata": {},
   "outputs": [],
   "source": [
    "################################### \n",
    "# Tratar missing\n",
    "# Para manipular os dados faltantes\n",
    "# cria um subset que é uma cópia física da view lógica que estavamos utilizando\n",
    "#"
   ]
  },
  {
   "cell_type": "code",
   "execution_count": 17,
   "metadata": {},
   "outputs": [
    {
     "data": {
      "text/plain": [
       "M      35256\n",
       "F      23032\n",
       "O         18\n",
       "NaN        2\n",
       "Name: Sexo, dtype: int64"
      ]
     },
     "execution_count": 17,
     "metadata": {},
     "output_type": "execute_result"
    }
   ],
   "source": [
    "# count na coluna, exibindo missing também\n",
    "df3['Sexo'].value_counts(dropna=False)"
   ]
  },
  {
   "cell_type": "code",
   "execution_count": 18,
   "metadata": {
    "scrolled": true
   },
   "outputs": [
    {
     "data": {
      "text/plain": [
       "NaN     57303\n",
       "14.0      201\n",
       "15.0      110\n",
       "13.0      107\n",
       "0.0        61\n",
       "8.0        61\n",
       "1.0        60\n",
       "11.0       58\n",
       "10.0       52\n",
       "12.0       51\n",
       "9.0        44\n",
       "3.0        38\n",
       "2.0        37\n",
       "7.0        32\n",
       "6.0        31\n",
       "4.0        31\n",
       "5.0        29\n",
       "17.0        2\n",
       "Name: Prazo Analise Gestor, dtype: int64"
      ]
     },
     "execution_count": 18,
     "metadata": {},
     "output_type": "execute_result"
    }
   ],
   "source": [
    "# count na coluna, exibindo missing também\n",
    "df3['Prazo Analise Gestor'].value_counts(dropna=False)"
   ]
  },
  {
   "cell_type": "code",
   "execution_count": 19,
   "metadata": {},
   "outputs": [
    {
     "name": "stdout",
     "output_type": "stream",
     "text": [
      "Mediana:  11.0 Média:  9.422885572139304\n"
     ]
    }
   ],
   "source": [
    "# Mediana e média\n",
    "print('Mediana: ', df3['Prazo Analise Gestor'].median(),'Média: ', df3['Prazo Analise Gestor'].mean())"
   ]
  },
  {
   "cell_type": "code",
   "execution_count": 20,
   "metadata": {},
   "outputs": [
    {
     "data": {
      "text/plain": [
       "1.0     5009\n",
       "15.0    4704\n",
       "8.0     4523\n",
       "7.0     4477\n",
       "14.0    4159\n",
       "9.0     4071\n",
       "10.0    3909\n",
       "2.0     3584\n",
       "6.0     3423\n",
       "3.0     3333\n",
       "0.0     3278\n",
       "5.0     3040\n",
       "4.0     3001\n",
       "13.0    2822\n",
       "12.0    2255\n",
       "11.0    2171\n",
       "NaN      537\n",
       "16.0       8\n",
       "17.0       4\n",
       "Name: Tempo Resposta, dtype: int64"
      ]
     },
     "execution_count": 20,
     "metadata": {},
     "output_type": "execute_result"
    }
   ],
   "source": [
    "# count na coluna, exibindo missing também\n",
    "df3['Tempo Resposta'].value_counts(dropna=False)"
   ]
  },
  {
   "cell_type": "code",
   "execution_count": 21,
   "metadata": {},
   "outputs": [
    {
     "name": "stdout",
     "output_type": "stream",
     "text": [
      "Mediana:  7.0 Média:  7.439355385920272\n"
     ]
    }
   ],
   "source": [
    "# Mediana e média\n",
    "print('Mediana: ', df3['Tempo Resposta'].median(),'Média: ', df3['Tempo Resposta'].mean())"
   ]
  },
  {
   "cell_type": "code",
   "execution_count": 22,
   "metadata": {
    "scrolled": false
   },
   "outputs": [
    {
     "data": {
      "text/plain": [
       "NaN             57303\n",
       "Improcedente     1005\n",
       "Name: Análise da Recusa, dtype: int64"
      ]
     },
     "execution_count": 22,
     "metadata": {},
     "output_type": "execute_result"
    }
   ],
   "source": [
    "# count na coluna, exibindo missing também\n",
    "df3['Análise da Recusa'].value_counts(dropna=False)"
   ]
  },
  {
   "cell_type": "code",
   "execution_count": 23,
   "metadata": {},
   "outputs": [],
   "source": [
    "# criar um cópia fisica da view lógica que estavamos utilizando\n",
    "# mudanças nessa cópia não refletirão nos datasets anteriores (backpropagation)\n",
    "df4 = df3.copy()"
   ]
  },
  {
   "cell_type": "code",
   "execution_count": 24,
   "metadata": {},
   "outputs": [],
   "source": [
    "# preencher nulo com 'X'\n",
    "df4['Sexo'] = df4['Sexo'].fillna('X')\n"
   ]
  },
  {
   "cell_type": "code",
   "execution_count": 25,
   "metadata": {},
   "outputs": [],
   "source": [
    "# preencher com a mediana\n",
    "df4['Prazo Analise Gestor'] = df4['Prazo Analise Gestor'].fillna(df4['Prazo Analise Gestor'].median())"
   ]
  },
  {
   "cell_type": "code",
   "execution_count": 26,
   "metadata": {},
   "outputs": [],
   "source": [
    "# preencher com a mediana\n",
    "df4['Tempo Resposta'] = df4['Tempo Resposta'].fillna(df4['Tempo Resposta'].median())"
   ]
  },
  {
   "cell_type": "code",
   "execution_count": 27,
   "metadata": {},
   "outputs": [],
   "source": [
    "# preencher nulo com 'X'\n",
    "df4['Análise da Recusa'] = df4['Análise da Recusa'].fillna('X')"
   ]
  },
  {
   "cell_type": "code",
   "execution_count": 28,
   "metadata": {},
   "outputs": [
    {
     "data": {
      "text/plain": [
       "[]"
      ]
     },
     "execution_count": 28,
     "metadata": {},
     "output_type": "execute_result"
    }
   ],
   "source": [
    "# Mostrar as colunas que tem nulo\n",
    "df4.columns[df4.isna().any()].tolist()"
   ]
  },
  {
   "cell_type": "code",
   "execution_count": 29,
   "metadata": {},
   "outputs": [],
   "source": [
    "################################### \n",
    "#"
   ]
  },
  {
   "cell_type": "code",
   "execution_count": 30,
   "metadata": {},
   "outputs": [
    {
     "data": {
      "text/plain": [
       "Cidade                    2753\n",
       "Nome Fantasia              626\n",
       "Problema                   158\n",
       "Assunto                    115\n",
       "Segmento de Mercado         39\n",
       "UF                          27\n",
       "Tempo Resposta              18\n",
       "Prazo Analise Gestor        17\n",
       "Gestor                      16\n",
       "Área                        13\n",
       "Como Comprou Contratou       9\n",
       "Grupo Problema               7\n",
       "Faixa Etária                 7\n",
       "Nota do Consumidor           5\n",
       "Região                       5\n",
       "Sexo                         4\n",
       "Canal de Origem              3\n",
       "Procurou Empresa             2\n",
       "Respondida                   2\n",
       "Situação                     2\n",
       "Avaliação Reclamação         2\n",
       "Análise da Recusa            2\n",
       "dtype: int64"
      ]
     },
     "execution_count": 30,
     "metadata": {},
     "output_type": "execute_result"
    }
   ],
   "source": [
    "# mostrar dimensionalidade do dataset\n",
    "df4.nunique( dropna = False).sort_values(ascending=False)"
   ]
  },
  {
   "cell_type": "code",
   "execution_count": 31,
   "metadata": {},
   "outputs": [
    {
     "name": "stdout",
     "output_type": "stream",
     "text": [
      "<class 'pandas.core.frame.DataFrame'>\n",
      "Int64Index: 58308 entries, 0 to 120666\n",
      "Data columns (total 22 columns):\n",
      " #   Column                  Non-Null Count  Dtype  \n",
      "---  ------                  --------------  -----  \n",
      " 0   Gestor                  58308 non-null  object \n",
      " 1   Canal de Origem         58308 non-null  object \n",
      " 2   Região                  58308 non-null  object \n",
      " 3   UF                      58308 non-null  object \n",
      " 4   Cidade                  58308 non-null  object \n",
      " 5   Sexo                    58308 non-null  object \n",
      " 6   Faixa Etária            58308 non-null  object \n",
      " 7   Prazo Analise Gestor    58308 non-null  float64\n",
      " 8   Tempo Resposta          58308 non-null  float64\n",
      " 9   Nome Fantasia           58308 non-null  object \n",
      " 10  Segmento de Mercado     58308 non-null  object \n",
      " 11  Área                    58308 non-null  object \n",
      " 12  Assunto                 58308 non-null  object \n",
      " 13  Grupo Problema          58308 non-null  object \n",
      " 14  Problema                58308 non-null  object \n",
      " 15  Como Comprou Contratou  58308 non-null  object \n",
      " 16  Procurou Empresa        58308 non-null  object \n",
      " 17  Respondida              58308 non-null  object \n",
      " 18  Situação                58308 non-null  object \n",
      " 19  Avaliação Reclamação    58308 non-null  object \n",
      " 20  Nota do Consumidor      58308 non-null  float64\n",
      " 21  Análise da Recusa       58308 non-null  object \n",
      "dtypes: float64(3), object(19)\n",
      "memory usage: 10.2+ MB\n"
     ]
    }
   ],
   "source": [
    "# mostrar \"tipagem\" dos dados do dataset\n",
    "df4.info()"
   ]
  },
  {
   "cell_type": "code",
   "execution_count": 32,
   "metadata": {},
   "outputs": [],
   "source": [
    "# Salvar esse dataset com os devidos ajustes como CSV\n",
    "df4.to_csv(r'C:\\Users\\mvaug\\Google Drive\\MACK\\BIG DATA ANALYTICS_ APLICAÇÃO DE CONHECIMENTO [TURMA 01N1] - 2021_1\\datasets\\consumidorgovbr_amplo2021-01_preparado.csv',sep=';', index = False, header=True)"
   ]
  }
 ],
 "metadata": {
  "kernelspec": {
   "display_name": "Python 3",
   "language": "python",
   "name": "python3"
  },
  "language_info": {
   "codemirror_mode": {
    "name": "ipython",
    "version": 3
   },
   "file_extension": ".py",
   "mimetype": "text/x-python",
   "name": "python",
   "nbconvert_exporter": "python",
   "pygments_lexer": "ipython3",
   "version": "3.8.5"
  }
 },
 "nbformat": 4,
 "nbformat_minor": 4
}
